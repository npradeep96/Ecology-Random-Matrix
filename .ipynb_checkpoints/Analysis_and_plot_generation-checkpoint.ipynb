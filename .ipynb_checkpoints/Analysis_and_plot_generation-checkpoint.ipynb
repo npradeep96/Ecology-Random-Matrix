{
 "cells": [
  {
   "cell_type": "code",
   "execution_count": 23,
   "id": "611b675d",
   "metadata": {},
   "outputs": [],
   "source": [
    "from matplotlib import pyplot as plt\n",
    "import numpy as np\n",
    "import h5py\n",
    "import os\n",
    "import re"
   ]
  },
  {
   "cell_type": "code",
   "execution_count": 3,
   "id": "5c0a1b53",
   "metadata": {},
   "outputs": [],
   "source": [
    "from matplotlib import rc\n",
    "rc('font',**{'family':'serif','serif':['Times']})\n",
    "rc('text', usetex=True)\n",
    "plt.rcParams['xtick.labelsize']=20\n",
    "plt.rcParams['ytick.labelsize']=20\n",
    "plt.rcParams['font.size']=20\n",
    "plt.rcParams[\"text.usetex\"]=True"
   ]
  },
  {
   "cell_type": "markdown",
   "id": "1ce4cc9e",
   "metadata": {},
   "source": [
    "## Plot probability vs N and C"
   ]
  },
  {
   "cell_type": "code",
   "execution_count": 42,
   "id": "25741543",
   "metadata": {},
   "outputs": [],
   "source": [
    "target_directory = '/home/npradeep96/Projects/Ecology-Random-Matrix/outputs/random/'\n",
    "C_list = [0.01, 0.03, 0.05, 0.07, 0.09, 0.11, 0.13, 0.15, 0.17, 0.19]\n",
    "N_list = [10.0, 20.0, 30.0, 40.0, 50.0, 75.0, 100.0, 125.0, 150.0, \n",
    "          200.0, 250.0, 300.0, 350.0, 400.0, 450.0, 500.0, 600.0, 700.0, 800.0, 900.0, 1000.0]\n",
    "probability_of_stability = np.zeros([len(C_list), len(N_list)])\n",
    "\n",
    "subdirectory_name = 'C_{C_val}_N_{N_val}_sigma_1.0_d_4.0/'\n",
    "analysis_file = 'analysis_data.txt'\n",
    "num_iterations = 1000\n",
    "\n",
    "for i in range(len(C_list)):\n",
    "    for j in range(len(N_list)):\n",
    "        analysis_file_name = target_directory + subdirectory_name.format(C_val=C_list[i], \n",
    "                                                                     N_val=N_list[j]) + analysis_file\n",
    "        with open(analysis_file_name, 'r') as f:\n",
    "            for line in f.readlines():\n",
    "                if re.match(r'probability of stability\\, *', line) != None:\n",
    "                    probability_of_stability[i,j] = float(line.split(',')[1])"
   ]
  },
  {
   "cell_type": "code",
   "execution_count": 32,
   "id": "ad8ffbbe",
   "metadata": {},
   "outputs": [
    {
     "name": "stdout",
     "output_type": "stream",
     "text": [
      "None\n"
     ]
    }
   ],
   "source": [
    "print(re.match(r'$abcd\\,*','abcd,efghi'))"
   ]
  },
  {
   "cell_type": "code",
   "execution_count": 35,
   "id": "fbe45cbb",
   "metadata": {},
   "outputs": [
    {
     "name": "stdout",
     "output_type": "stream",
     "text": [
      "hi\n"
     ]
    }
   ],
   "source": [
    "if re.match(r'abcd\\,*','abcd,efghi') != None:\n",
    "    print('hi')"
   ]
  },
  {
   "cell_type": "code",
   "execution_count": 40,
   "id": "a0782c1b",
   "metadata": {},
   "outputs": [
    {
     "data": {
      "text/plain": [
       "['abcd', 'efgh']"
      ]
     },
     "execution_count": 40,
     "metadata": {},
     "output_type": "execute_result"
    }
   ],
   "source": [
    "'abcd,efgh'.split(',')"
   ]
  },
  {
   "cell_type": "code",
   "execution_count": null,
   "id": "85658045",
   "metadata": {},
   "outputs": [],
   "source": []
  }
 ],
 "metadata": {
  "kernelspec": {
   "display_name": "Python 3",
   "language": "python",
   "name": "python3"
  },
  "language_info": {
   "codemirror_mode": {
    "name": "ipython",
    "version": 3
   },
   "file_extension": ".py",
   "mimetype": "text/x-python",
   "name": "python",
   "nbconvert_exporter": "python",
   "pygments_lexer": "ipython3",
   "version": "3.6.15"
  }
 },
 "nbformat": 4,
 "nbformat_minor": 5
}
